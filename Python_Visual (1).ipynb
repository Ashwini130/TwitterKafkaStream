{
 "cells": [
  {
   "cell_type": "code",
   "execution_count": 1,
   "metadata": {
    "collapsed": true
   },
   "outputs": [],
   "source": [
    "import os\n",
    "os.environ['PYSPARK_SUBMIT_ARGS'] = '--packages org.apache.spark:spark-sql-kafka-0-10_2.11:2.1.0,org.apache.kafka:kafka-clients:0.10.0-kafka-2.1.0 pyspark-shell'"
   ]
  },
  {
   "cell_type": "code",
   "execution_count": 2,
   "metadata": {},
   "outputs": [
    {
     "name": "stdout",
     "output_type": "stream",
     "text": [
      "env: SPARK_KAFKA_VERSION=0.10\n"
     ]
    }
   ],
   "source": [
    "import sys\n",
    "%env SPARK_KAFKA_VERSION=0.10\n",
    "from pyspark.sql import SparkSession\n",
    "from pyspark.sql.functions import * \n",
    "from pyspark.sql.types import *\n",
    "import pandas as pd\n",
    "\n",
    "\n",
    "#Get the Afinn word repository\n",
    "afinn_wl_url = ('https://raw.githubusercontent.com'\n",
    "                '/fnielsen/afinn/master/afinn/data/AFINN-111.txt')\n",
    "afinn_wl_df = pd.read_csv(afinn_wl_url,index_col=False,header=None,sep='\\t',names=['term', 'value'])\n",
    "#create dictionary out of it\n",
    "sent_dict = dict(afinn_wl_df.values)\n",
    "\n",
    "#create a function to assign sentiment value to each tweet\n",
    "def add_sentiment_score(text_string):\n",
    "\tsum = 0\n",
    "\tlist_of_words =  text_string.lower().split(\" \")\n",
    "\tfor i in list_of_words:\n",
    "\t\tif i in sent_dict:\n",
    "\t\t\tsum = sum + sent_dict.get(i)\n",
    "\treturn sum\n",
    "\t\n",
    "\t\n",
    " \n",
    " "
   ]
  },
  {
   "cell_type": "code",
   "execution_count": 3,
   "metadata": {
    "collapsed": true
   },
   "outputs": [],
   "source": [
    "#start spark session\n",
    "spark = SparkSession\\\n",
    "        .builder\\\n",
    "        .appName(\"TwitterSentimentAnalysis\")\\\n",
    "        .getOrCreate()\n",
    "            "
   ]
  },
  {
   "cell_type": "code",
   "execution_count": 4,
   "metadata": {
    "collapsed": true
   },
   "outputs": [],
   "source": [
    "#Read streamed tweets from kafka topic \n",
    "DFRaw = spark.readStream.format(\"kafka\").option(\"kafka.bootstrap.servers\",\"ip-20-0-31-221.ec2.internal:9092\").option(\"subscribe\",\"tweets\").load()\n"
   ]
  },
  {
   "cell_type": "code",
   "execution_count": 5,
   "metadata": {
    "collapsed": true
   },
   "outputs": [],
   "source": [
    "#select tweet and timestamp from the read dataframe\n",
    "DF = DFRaw.selectExpr(\"CAST(value as string) as tweet\",\"timestamp as timestamp\")\n"
   ]
  },
  {
   "cell_type": "code",
   "execution_count": 6,
   "metadata": {},
   "outputs": [],
   "source": [
    "#Register function as spark udf\n",
    "add_sentiment_score_udf = udf(add_sentiment_score,IntegerType())\n",
    "\n",
    "#Add sentiment_score to each tweet\n",
    "DF = DF.withColumn(\"sentiment_score\",add_sentiment_score_udf(DF.tweet))\n",
    "\n",
    "#categorize tweet as positive/negative as per sentiment score\n",
    "DF = DF.select(col(\"*\"), when(col(\"sentiment_score\") > 0 ,\"Positive\").when(col(\"sentiment_score\") < 0 ,\"Negative\")\\\n",
    "                                .otherwise(\"Neutral\").alias(\"sentiment\"))"
   ]
  },
  {
   "cell_type": "code",
   "execution_count": 7,
   "metadata": {},
   "outputs": [],
   "source": [
    "#create a sliding window and add watermark for late data\n",
    "windowedDFCounts = DF\\\n",
    "\t\t.withWatermark(\"timestamp\", \"5 minutes\") \\\n",
    "\t\t.groupBy(\n",
    "\t\t\twindow(DF.timestamp, \"5 minutes\", \"2 minutes\"),\n",
    "\t\t\tDF.sentiment) \\\n",
    "\t\t.count()"
   ]
  },
  {
   "cell_type": "code",
   "execution_count": 8,
   "metadata": {},
   "outputs": [],
   "source": [
    "#write Stream to memory \n",
    "query = windowedDFCounts.writeStream.outputMode(\"update\").format(\"memory\").queryName(\"twitter_stream\").option(\"truncate\",\"true\").start()\n"
   ]
  },
  {
   "cell_type": "code",
   "execution_count": 9,
   "metadata": {
    "collapsed": true
   },
   "outputs": [],
   "source": [
    "import time\n",
    "import matplotlib\n",
    "import matplotlib.pyplot as plt\n",
    "import seaborn as sns\n",
    "import pandas\n",
    "from time import sleep\n",
    "from IPython.display import clear_output\n",
    "# Create an array with the colors you want to use\n",
    "colors = [\"#FF0B04\", \"#4374B3\",'#FFFFFF']\n",
    "# Set your custom color palette\n",
    "sns.set_palette(sns.color_palette(colors))"
   ]
  },
  {
   "cell_type": "code",
   "execution_count": null,
   "metadata": {},
   "outputs": [
    {
     "name": "stdout",
     "output_type": "stream",
     "text": [
      "**********************\n",
      "General Info\n",
      "**********************\n",
      "Run:3\n",
      "Stream timestamp:2021-07-24T14:51:16.131Z\n",
      "Watermark:2021-07-24T14:46:09.763Z\n",
      "Total Rows:9\n",
      "Updated Rows:4\n"
     ]
    },
    {
     "name": "stderr",
     "output_type": "stream",
     "text": [
      "/usr/local/anaconda/python2/lib/python2.7/site-packages/seaborn/categorical.py:1460: FutureWarning: remove_na is deprecated and is a private function. Do not use.\n",
      "  stat_data = remove_na(group_data)\n"
     ]
    },
    {
     "data": {
      "text/plain": [
       "<matplotlib.figure.Figure at 0x7f876ba76050>"
      ]
     },
     "metadata": {},
     "output_type": "display_data"
    },
    {
     "data": {
      "text/plain": [
       "<matplotlib.figure.Figure at 0x7f876ba32910>"
      ]
     },
     "metadata": {},
     "output_type": "display_data"
    },
    {
     "data": {
      "image/png": "[encoded data removed]",
      "text/plain": [
       "<matplotlib.figure.Figure at 0x7f876ba50d10>"
      ]
     },
     "metadata": {},
     "output_type": "display_data"
    }
   ],
   "source": [
    "matplotlib.rc('font', family='DejaVu Sans')\n",
    "sns.set(style=\"whitegrid\")\n",
    "\n",
    "\n",
    "try:\n",
    "    i=1\n",
    "    while True:\n",
    "        # Clear output\n",
    "        clear_output(wait=True)\n",
    "        print(\"**********************\")\n",
    "        print(\"General Info\")\n",
    "        print(\"**********************\")\n",
    "        print(\"Run:{}\".format(i))\n",
    "        if (len(query.recentProgress) > 0):\n",
    "            print(\"Stream timestamp:{}\".format(query.lastProgress[\"timestamp\"]))\n",
    "            print(\"Watermark:{}\".format(query.lastProgress[\"eventTime\"][\"watermark\"]))\n",
    "            print(\"Total Rows:{}\".format(query.lastProgress[\"stateOperators\"][0][\"numRowsTotal\"]))\n",
    "            print(\"Updated Rows:{}\".format(query.lastProgress[\"stateOperators\"][0][\"numRowsUpdated\"]))\n",
    "            \n",
    "        df = spark.sql(\n",
    "                \"\"\"\n",
    "                    select\n",
    "                        window.start,window.end,sentiment,sum(count) count\n",
    "                    from\n",
    "                        twitter_stream\n",
    "                    where\n",
    "                        window.start = (select max(window.start) from twitter_stream)\n",
    "                    group by\n",
    "                        window.start\n",
    "                        ,window.end\n",
    "                        ,sentiment\n",
    "                \"\"\"\n",
    "        ).toPandas()\n",
    "\n",
    "        # Plot the total count\n",
    "        sns.set_color_codes(\"muted\")\n",
    "\n",
    "        # Initialize the matplotlib figure\n",
    "        plt.figure(figsize=(8,6))\n",
    "\n",
    "        try:\n",
    "            # Barplot\n",
    "            sns.barplot(x=\"sentiment\", y=\"count\", data=df)\n",
    "            # Show barplot\n",
    "            plt.show()\n",
    "        except ValueError:\n",
    "            # If Dataframe is empty, pass\n",
    "            pass  \n",
    "        \n",
    "        sleep(120)\n",
    "        i=i+1\n",
    "except KeyboardInterrupt:\n",
    "    print(\"process interrupted.\")\n",
    "\n"
   ]
  },
  {
   "cell_type": "code",
   "execution_count": null,
   "metadata": {
    "collapsed": true
   },
   "outputs": [],
   "source": []
  },
  {
   "cell_type": "code",
   "execution_count": null,
   "metadata": {},
   "outputs": [],
   "source": []
  },
  {
   "cell_type": "code",
   "execution_count": null,
   "metadata": {
    "collapsed": true
   },
   "outputs": [],
   "source": []
  }
 ],
 "metadata": {
  "kernelspec": {
   "display_name": "PySpark",
   "language": "python",
   "name": "pyspark"
  },
  "language_info": {
   "codemirror_mode": {
    "name": "ipython",
    "version": 2
   },
   "file_extension": ".py",
   "mimetype": "text/x-python",
   "name": "python",
   "nbconvert_exporter": "python",
   "pygments_lexer": "ipython2",
   "version": "2.7.14"
  }
 },
 "nbformat": 4,
 "nbformat_minor": 2
}
